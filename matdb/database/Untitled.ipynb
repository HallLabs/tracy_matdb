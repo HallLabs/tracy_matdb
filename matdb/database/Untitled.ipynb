{
 "cells": [
  {
   "cell_type": "markdown",
   "metadata": {},
   "source": [
    "# Surface Notebook"
   ]
  },
  {
   "cell_type": "markdown",
   "metadata": {},
   "source": [
    "### Displacement Field:\n",
    "Sum of the nonzero edge and screw dislocation fields.\n"
   ]
  },
  {
   "cell_type": "code",
   "execution_count": 2,
   "metadata": {},
   "outputs": [],
   "source": [
    "import numbers\n",
    "import numpy as np"
   ]
  },
  {
   "cell_type": "code",
   "execution_count": null,
   "metadata": {},
   "outputs": [],
   "source": [
    "def vec_mag(vec):\n",
    "    \"\"\"The magnitude of a vector.\n",
    "    \"\"\"\n",
    "    return np.sqrt(np.dot(v, v))\n",
    "\n",
    "class Dislocations():\n",
    "    \"\"\"\n",
    "    \"\"\"\n",
    "    def __init__(origin, line, burgers_vec,\n",
    "                 poisson_ratio=None, glide_plane=None):\n",
    "        \"\"\"Dislocation defect setup. Allow for screw and edge\n",
    "        dislocations as well as mixed.\n",
    "    \n",
    "        args:\n",
    "            burgers_vec(int): the Burgers Vector for the dislocation.\n",
    "            origin(list): x,y,z coordinates for start of a straight\n",
    "                dislocation.\n",
    "            line(list): (3-vector) that gives the direction of the\n",
    "                dislocation. (i.e. [1, 0, 0])\n",
    "            poisson_ration(float): Default value of 1/3\n",
    "        \n",
    "        Returns:\n",
    "        \"\"\"\n",
    "    def edge_dislocation(self):\n",
    "        \"\"\"Generate a straight edge dislocation.\n",
    "        Args:\n",
    "            \n",
    "        \"\"\"\n",
    "        \n",
    "        \n"
   ]
  },
  {
   "cell_type": "code",
   "execution_count": null,
   "metadata": {},
   "outputs": [],
   "source": []
  },
  {
   "cell_type": "code",
   "execution_count": null,
   "metadata": {},
   "outputs": [],
   "source": []
  }
 ],
 "metadata": {
  "kernelspec": {
   "display_name": "Python 3",
   "language": "python",
   "name": "python3"
  },
  "language_info": {
   "codemirror_mode": {
    "name": "ipython",
    "version": 3
   },
   "file_extension": ".py",
   "mimetype": "text/x-python",
   "name": "python",
   "nbconvert_exporter": "python",
   "pygments_lexer": "ipython3",
   "version": "3.5.2"
  }
 },
 "nbformat": 4,
 "nbformat_minor": 2
}
